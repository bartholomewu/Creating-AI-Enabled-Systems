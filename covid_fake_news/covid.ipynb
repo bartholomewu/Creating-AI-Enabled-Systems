{
 "cells": [
  {
   "cell_type": "code",
   "execution_count": 1,
   "id": "e6bb3d04",
   "metadata": {},
   "outputs": [],
   "source": [
    "import pandas as pd\n",
    "import io\n",
    "import numpy as np\n",
    "import matplotlib.pyplot as plt"
   ]
  },
  {
   "cell_type": "code",
   "execution_count": 2,
   "id": "c818eaba",
   "metadata": {},
   "outputs": [],
   "source": [
    "from sklearn.feature_extraction.text import TfidfVectorizer"
   ]
  },
  {
   "cell_type": "code",
   "execution_count": 3,
   "id": "f41ca793",
   "metadata": {},
   "outputs": [],
   "source": [
    "from sklearn.model_selection import train_test_split"
   ]
  },
  {
   "cell_type": "code",
   "execution_count": 4,
   "id": "883a60b9",
   "metadata": {},
   "outputs": [],
   "source": [
    "data = pd.read_csv(\"data/Constraint_Train.csv\")\n",
    "val_data = pd.read_csv(\"data/Constraint_Val.csv\")\n",
    "test_data = pd.read_csv(\"data/Constraint_Test.csv\")"
   ]
  },
  {
   "cell_type": "code",
   "execution_count": 5,
   "id": "022093a3",
   "metadata": {},
   "outputs": [
    {
     "data": {
      "text/plain": [
       "<bound method NDFrame.head of         id                                              tweet  label\n",
       "0        1  The CDC currently reports 99031 deaths. In gen...      0\n",
       "1        2  States reported 1121 deaths a small rise from ...      0\n",
       "2        3  Politically Correct Woman (Almost) Uses Pandem...      1\n",
       "3        4  #IndiaFightsCorona: We have 1524 #COVID testin...      0\n",
       "4        5  Populous states can generate large case counts...      0\n",
       "...    ...                                                ...    ...\n",
       "6415  6416  A tiger tested positive for COVID-19 please st...      1\n",
       "6416  6417  ???Autopsies prove that COVID-19 is??� a blood...      1\n",
       "6417  6418  _A post claims a COVID-19 vaccine has already ...      1\n",
       "6418  6419  Aamir Khan Donate 250 Cr. In PM Relief Cares Fund      1\n",
       "6419  6420  It has been 93 days since the last case of COV...      0\n",
       "\n",
       "[6420 rows x 3 columns]>"
      ]
     },
     "execution_count": 5,
     "metadata": {},
     "output_type": "execute_result"
    }
   ],
   "source": [
    "label_keys = {'real': 0, 'fake': 1}\n",
    "data['label'] = data['label'].replace(label_keys)\n",
    "data.head"
   ]
  },
  {
   "cell_type": "code",
   "execution_count": 6,
   "id": "8811af72",
   "metadata": {},
   "outputs": [
    {
     "data": {
      "text/plain": [
       "<bound method NDFrame.head of         id                                              tweet\n",
       "0        1  The CDC currently reports 99031 deaths. In gen...\n",
       "1        2  States reported 1121 deaths a small rise from ...\n",
       "2        3  Politically Correct Woman (Almost) Uses Pandem...\n",
       "3        4  #IndiaFightsCorona: We have 1524 #COVID testin...\n",
       "4        5  Populous states can generate large case counts...\n",
       "...    ...                                                ...\n",
       "6415  6416  A tiger tested positive for COVID-19 please st...\n",
       "6416  6417  ???Autopsies prove that COVID-19 is??� a blood...\n",
       "6417  6418  _A post claims a COVID-19 vaccine has already ...\n",
       "6418  6419  Aamir Khan Donate 250 Cr. In PM Relief Cares Fund\n",
       "6419  6420  It has been 93 days since the last case of COV...\n",
       "\n",
       "[6420 rows x 2 columns]>"
      ]
     },
     "execution_count": 6,
     "metadata": {},
     "output_type": "execute_result"
    }
   ],
   "source": [
    "vectorizer = TfidfVectorizer()\n",
    "x = vectorizer.fit_transform(data['tweet'])\n",
    "y = data['label']\n",
    "data = data.drop(columns=['label'])\n",
    "data.head"
   ]
  },
  {
   "cell_type": "code",
   "execution_count": 7,
   "id": "ea0fb240",
   "metadata": {},
   "outputs": [],
   "source": [
    "x_train, x_test, y_train, y_test = train_test_split(x, y, test_size=0.2, random_state=42)"
   ]
  },
  {
   "cell_type": "code",
   "execution_count": 8,
   "id": "41828181",
   "metadata": {},
   "outputs": [],
   "source": [
    "from sklearn.linear_model import LogisticRegression"
   ]
  },
  {
   "cell_type": "code",
   "execution_count": 9,
   "id": "62714157",
   "metadata": {},
   "outputs": [],
   "source": [
    "log_r = LogisticRegression().fit(x_train, y_train)"
   ]
  },
  {
   "cell_type": "code",
   "execution_count": 10,
   "id": "0a2e68ed",
   "metadata": {},
   "outputs": [],
   "source": [
    "y_pred = log_r.predict(x_test)"
   ]
  },
  {
   "cell_type": "code",
   "execution_count": 11,
   "id": "e75dcfbe",
   "metadata": {},
   "outputs": [],
   "source": [
    "from sklearn.metrics import accuracy_score"
   ]
  },
  {
   "cell_type": "code",
   "execution_count": 12,
   "id": "4ae1958a",
   "metadata": {},
   "outputs": [
    {
     "data": {
      "text/plain": [
       "0.9244548286604362"
      ]
     },
     "execution_count": 12,
     "metadata": {},
     "output_type": "execute_result"
    }
   ],
   "source": [
    "accuracy_score(y_test, y_pred)"
   ]
  },
  {
   "cell_type": "code",
   "execution_count": 13,
   "id": "2df853c6",
   "metadata": {},
   "outputs": [],
   "source": [
    "tot_pred = log_r.predict(x)"
   ]
  },
  {
   "cell_type": "code",
   "execution_count": 14,
   "id": "5bc531af",
   "metadata": {},
   "outputs": [
    {
     "data": {
      "text/html": [
       "<div>\n",
       "<style scoped>\n",
       "    .dataframe tbody tr th:only-of-type {\n",
       "        vertical-align: middle;\n",
       "    }\n",
       "\n",
       "    .dataframe tbody tr th {\n",
       "        vertical-align: top;\n",
       "    }\n",
       "\n",
       "    .dataframe thead th {\n",
       "        text-align: right;\n",
       "    }\n",
       "</style>\n",
       "<table border=\"1\" class=\"dataframe\">\n",
       "  <thead>\n",
       "    <tr style=\"text-align: right;\">\n",
       "      <th></th>\n",
       "      <th>tweet</th>\n",
       "      <th>result</th>\n",
       "      <th>predict</th>\n",
       "    </tr>\n",
       "  </thead>\n",
       "  <tbody>\n",
       "    <tr>\n",
       "      <th>0</th>\n",
       "      <td>The CDC currently reports 99031 deaths. In gen...</td>\n",
       "      <td>real</td>\n",
       "      <td>real</td>\n",
       "    </tr>\n",
       "    <tr>\n",
       "      <th>1</th>\n",
       "      <td>States reported 1121 deaths a small rise from ...</td>\n",
       "      <td>real</td>\n",
       "      <td>real</td>\n",
       "    </tr>\n",
       "    <tr>\n",
       "      <th>2</th>\n",
       "      <td>Politically Correct Woman (Almost) Uses Pandem...</td>\n",
       "      <td>fake</td>\n",
       "      <td>fake</td>\n",
       "    </tr>\n",
       "    <tr>\n",
       "      <th>3</th>\n",
       "      <td>#IndiaFightsCorona: We have 1524 #COVID testin...</td>\n",
       "      <td>real</td>\n",
       "      <td>real</td>\n",
       "    </tr>\n",
       "    <tr>\n",
       "      <th>4</th>\n",
       "      <td>Populous states can generate large case counts...</td>\n",
       "      <td>real</td>\n",
       "      <td>real</td>\n",
       "    </tr>\n",
       "    <tr>\n",
       "      <th>...</th>\n",
       "      <td>...</td>\n",
       "      <td>...</td>\n",
       "      <td>...</td>\n",
       "    </tr>\n",
       "    <tr>\n",
       "      <th>6415</th>\n",
       "      <td>A tiger tested positive for COVID-19 please st...</td>\n",
       "      <td>fake</td>\n",
       "      <td>fake</td>\n",
       "    </tr>\n",
       "    <tr>\n",
       "      <th>6416</th>\n",
       "      <td>???Autopsies prove that COVID-19 is??� a blood...</td>\n",
       "      <td>fake</td>\n",
       "      <td>fake</td>\n",
       "    </tr>\n",
       "    <tr>\n",
       "      <th>6417</th>\n",
       "      <td>_A post claims a COVID-19 vaccine has already ...</td>\n",
       "      <td>fake</td>\n",
       "      <td>fake</td>\n",
       "    </tr>\n",
       "    <tr>\n",
       "      <th>6418</th>\n",
       "      <td>Aamir Khan Donate 250 Cr. In PM Relief Cares Fund</td>\n",
       "      <td>fake</td>\n",
       "      <td>fake</td>\n",
       "    </tr>\n",
       "    <tr>\n",
       "      <th>6419</th>\n",
       "      <td>It has been 93 days since the last case of COV...</td>\n",
       "      <td>real</td>\n",
       "      <td>real</td>\n",
       "    </tr>\n",
       "  </tbody>\n",
       "</table>\n",
       "<p>6420 rows × 3 columns</p>\n",
       "</div>"
      ],
      "text/plain": [
       "                                                  tweet result predict\n",
       "0     The CDC currently reports 99031 deaths. In gen...   real    real\n",
       "1     States reported 1121 deaths a small rise from ...   real    real\n",
       "2     Politically Correct Woman (Almost) Uses Pandem...   fake    fake\n",
       "3     #IndiaFightsCorona: We have 1524 #COVID testin...   real    real\n",
       "4     Populous states can generate large case counts...   real    real\n",
       "...                                                 ...    ...     ...\n",
       "6415  A tiger tested positive for COVID-19 please st...   fake    fake\n",
       "6416  ???Autopsies prove that COVID-19 is??� a blood...   fake    fake\n",
       "6417  _A post claims a COVID-19 vaccine has already ...   fake    fake\n",
       "6418  Aamir Khan Donate 250 Cr. In PM Relief Cares Fund   fake    fake\n",
       "6419  It has been 93 days since the last case of COV...   real    real\n",
       "\n",
       "[6420 rows x 3 columns]"
      ]
     },
     "execution_count": 14,
     "metadata": {},
     "output_type": "execute_result"
    }
   ],
   "source": [
    "completed = data\n",
    "completed = completed.drop(columns=['id'])\n",
    "completed['result'] = y\n",
    "completed['result'] = completed['result'].replace({0: 'real', 1: 'fake'})\n",
    "completed['predict'] = tot_pred\n",
    "completed['predict'] = completed['predict'].replace({0: 'real', 1: 'fake'})\n",
    "completed"
   ]
  },
  {
   "cell_type": "code",
   "execution_count": 15,
   "id": "f3df7637",
   "metadata": {},
   "outputs": [
    {
     "data": {
      "text/plain": [
       "(3197, 3)"
      ]
     },
     "execution_count": 15,
     "metadata": {},
     "output_type": "execute_result"
    }
   ],
   "source": [
    "true_real = completed.loc[(completed['result'] == 'real') & (completed['predict'] == 'real')]\n",
    "true_real.shape"
   ]
  },
  {
   "cell_type": "code",
   "execution_count": 16,
   "id": "8017521c",
   "metadata": {},
   "outputs": [
    {
     "data": {
      "text/plain": [
       "(2949, 3)"
      ]
     },
     "execution_count": 16,
     "metadata": {},
     "output_type": "execute_result"
    }
   ],
   "source": [
    "true_fake = completed.loc[(completed['result'] == 'fake') & (completed['predict'] == 'fake')]\n",
    "true_fake.shape"
   ]
  },
  {
   "cell_type": "code",
   "execution_count": 17,
   "id": "8c94c004",
   "metadata": {},
   "outputs": [
    {
     "data": {
      "text/plain": [
       "(163, 3)"
      ]
     },
     "execution_count": 17,
     "metadata": {},
     "output_type": "execute_result"
    }
   ],
   "source": [
    "false_real = completed.loc[(completed['result'] == 'real') & (completed['predict'] == 'fake')]\n",
    "false_real.shape"
   ]
  },
  {
   "cell_type": "code",
   "execution_count": 18,
   "id": "e0fc3dbd",
   "metadata": {},
   "outputs": [
    {
     "data": {
      "text/plain": [
       "(111, 3)"
      ]
     },
     "execution_count": 18,
     "metadata": {},
     "output_type": "execute_result"
    }
   ],
   "source": [
    "false_fake = completed.loc[(completed['result'] == 'fake') & (completed['predict'] == 'real')]\n",
    "false_fake.shape"
   ]
  },
  {
   "cell_type": "code",
   "execution_count": 20,
   "id": "f4d7cef7",
   "metadata": {},
   "outputs": [
    {
     "data": {
      "text/html": [
       "<div>\n",
       "<style scoped>\n",
       "    .dataframe tbody tr th:only-of-type {\n",
       "        vertical-align: middle;\n",
       "    }\n",
       "\n",
       "    .dataframe tbody tr th {\n",
       "        vertical-align: top;\n",
       "    }\n",
       "\n",
       "    .dataframe thead th {\n",
       "        text-align: right;\n",
       "    }\n",
       "</style>\n",
       "<table border=\"1\" class=\"dataframe\">\n",
       "  <thead>\n",
       "    <tr style=\"text-align: right;\">\n",
       "      <th></th>\n",
       "      <th>id</th>\n",
       "      <th>tweet</th>\n",
       "    </tr>\n",
       "  </thead>\n",
       "  <tbody>\n",
       "    <tr>\n",
       "      <th>0</th>\n",
       "      <td>1</td>\n",
       "      <td>The CDC currently reports 99031 deaths. In gen...</td>\n",
       "    </tr>\n",
       "    <tr>\n",
       "      <th>1</th>\n",
       "      <td>2</td>\n",
       "      <td>States reported 1121 deaths a small rise from ...</td>\n",
       "    </tr>\n",
       "    <tr>\n",
       "      <th>2</th>\n",
       "      <td>3</td>\n",
       "      <td>Politically Correct Woman (Almost) Uses Pandem...</td>\n",
       "    </tr>\n",
       "    <tr>\n",
       "      <th>3</th>\n",
       "      <td>4</td>\n",
       "      <td>#IndiaFightsCorona: We have 1524 #COVID testin...</td>\n",
       "    </tr>\n",
       "    <tr>\n",
       "      <th>4</th>\n",
       "      <td>5</td>\n",
       "      <td>Populous states can generate large case counts...</td>\n",
       "    </tr>\n",
       "  </tbody>\n",
       "</table>\n",
       "</div>"
      ],
      "text/plain": [
       "   id                                              tweet\n",
       "0   1  The CDC currently reports 99031 deaths. In gen...\n",
       "1   2  States reported 1121 deaths a small rise from ...\n",
       "2   3  Politically Correct Woman (Almost) Uses Pandem...\n",
       "3   4  #IndiaFightsCorona: We have 1524 #COVID testin...\n",
       "4   5  Populous states can generate large case counts..."
      ]
     },
     "execution_count": 20,
     "metadata": {},
     "output_type": "execute_result"
    }
   ],
   "source": [
    "data.head()"
   ]
  },
  {
   "cell_type": "code",
   "execution_count": 29,
   "id": "1412276f",
   "metadata": {},
   "outputs": [
    {
     "name": "stderr",
     "output_type": "stream",
     "text": [
      "/tmp/ipykernel_675/4070673369.py:1: SettingWithCopyWarning: \n",
      "A value is trying to be set on a copy of a slice from a DataFrame.\n",
      "Try using .loc[row_indexer,col_indexer] = value instead\n",
      "\n",
      "See the caveats in the documentation: https://pandas.pydata.org/pandas-docs/stable/user_guide/indexing.html#returning-a-view-versus-a-copy\n",
      "  true_real['char'] = true_real['tweet'].str.len()\n"
     ]
    },
    {
     "data": {
      "text/plain": [
       "219.05724116359087"
      ]
     },
     "execution_count": 29,
     "metadata": {},
     "output_type": "execute_result"
    }
   ],
   "source": [
    "true_real['char'] = true_real['tweet'].str.len()\n",
    "true_real_avg = np.mean(true_real['char'])\n",
    "true_real_avg"
   ]
  },
  {
   "cell_type": "code",
   "execution_count": 25,
   "id": "050b19a3",
   "metadata": {},
   "outputs": [
    {
     "name": "stderr",
     "output_type": "stream",
     "text": [
      "/tmp/ipykernel_675/1073921520.py:1: SettingWithCopyWarning: \n",
      "A value is trying to be set on a copy of a slice from a DataFrame.\n",
      "Try using .loc[row_indexer,col_indexer] = value instead\n",
      "\n",
      "See the caveats in the documentation: https://pandas.pydata.org/pandas-docs/stable/user_guide/indexing.html#returning-a-view-versus-a-copy\n",
      "  true_fake['char'] = true_fake['tweet'].str.len()\n"
     ]
    },
    {
     "data": {
      "text/plain": [
       "142.93116310613766"
      ]
     },
     "execution_count": 25,
     "metadata": {},
     "output_type": "execute_result"
    }
   ],
   "source": [
    "true_fake['char'] = true_fake['tweet'].str.len()\n",
    "true_fake_avg = np.mean(true_fake['char'])\n",
    "true_fake_avg"
   ]
  },
  {
   "cell_type": "code",
   "execution_count": null,
   "id": "6a30fdaf",
   "metadata": {},
   "outputs": [],
   "source": []
  }
 ],
 "metadata": {
  "kernelspec": {
   "display_name": "Python 3 (ipykernel)",
   "language": "python",
   "name": "python3"
  },
  "language_info": {
   "codemirror_mode": {
    "name": "ipython",
    "version": 3
   },
   "file_extension": ".py",
   "mimetype": "text/x-python",
   "name": "python",
   "nbconvert_exporter": "python",
   "pygments_lexer": "ipython3",
   "version": "3.8.10"
  }
 },
 "nbformat": 4,
 "nbformat_minor": 5
}
