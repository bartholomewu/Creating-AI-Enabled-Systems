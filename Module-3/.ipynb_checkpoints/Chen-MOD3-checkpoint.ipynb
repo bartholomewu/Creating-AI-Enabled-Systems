{
 "cells": [
  {
   "cell_type": "code",
   "execution_count": 1,
   "id": "aff08b33-3095-4059-90e2-d0c3b9cb6224",
   "metadata": {},
   "outputs": [],
   "source": [
    "import numpy as np \n",
    "import matplotlib.pyplot as plt \n",
    "import cv2 "
   ]
  },
  {
   "cell_type": "code",
   "execution_count": null,
   "id": "7a1c935f-0440-4582-ae22-bc3f377c779f",
   "metadata": {},
   "outputs": [],
   "source": [
    "images = ('BikeShot1.jpg', 'BikeShot2.jpg', 'BikeShot3.jpg', 'BikeShot4.jpg')"
   ]
  }
 ],
 "metadata": {
  "kernelspec": {
   "display_name": "Python 3 (ipykernel)",
   "language": "python",
   "name": "python3"
  },
  "language_info": {
   "codemirror_mode": {
    "name": "ipython",
    "version": 3
   },
   "file_extension": ".py",
   "mimetype": "text/x-python",
   "name": "python",
   "nbconvert_exporter": "python",
   "pygments_lexer": "ipython3",
   "version": "3.7.9"
  }
 },
 "nbformat": 4,
 "nbformat_minor": 5
}
